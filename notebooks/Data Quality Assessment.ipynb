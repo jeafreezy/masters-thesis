{
   "cells": [
      {
         "cell_type": "markdown",
         "metadata": {},
         "source": [
            "## Libraries Import"
         ]
      },
      {
         "cell_type": "code",
         "execution_count": null,
         "metadata": {
            "id": "dFZKrGTDHvSa"
         },
         "outputs": [],
         "source": [
            "import os\n",
            "import random\n",
            "\n",
            "# Data Analysis\n",
            "import pandas as pd\n",
            "import polars as pl\n",
            "import numpy as np\n",
            "\n",
            "# Visualization\n",
            "import seaborn as sns\n",
            "import matplotlib.pyplot as plt\n",
            "\n",
            "\n",
            "# Stats & ML\n",
            "\n",
            "from sklearn.ensemble import IsolationForest\n",
            "\n",
            "\n",
            "\n",
            "pl.Config.set_tbl_rows(-1)\n",
            "%matplotlib inline"
         ]
      },
      {
         "cell_type": "markdown",
         "metadata": {
            "id": "hyDedPc8HvSa"
         },
         "source": [
            "## Data Loading"
         ]
      },
      {
         "cell_type": "code",
         "execution_count": null,
         "metadata": {
            "colab": {
               "base_uri": "https://localhost:8080/"
            },
            "id": "2Xu83Mf6rT51",
            "outputId": "a9349bdc-5f4a-441a-b85c-6b299e155280"
         },
         "outputs": [],
         "source": [
            "try:\n",
            "    df = pl.read_csv('../exports/cummulative_daily_consumption.csv', infer_schema_length=100000)\n",
            "    print(f\"Data loaded successfully\")\n",
            "except Exception as e:\n",
            "    print(f\"An error occurred while loading the data: {e}\")"
         ]
      },
      {
         "cell_type": "code",
         "execution_count": null,
         "metadata": {},
         "outputs": [],
         "source": [
            "df.head()"
         ]
      },
      {
         "cell_type": "code",
         "execution_count": null,
         "metadata": {},
         "outputs": [],
         "source": [
            "# cast date string to date datatype\n",
            "df = df.with_columns(pl.col(\"DATE\").cast(pl.Date))"
         ]
      },
      {
         "cell_type": "code",
         "execution_count": null,
         "metadata": {},
         "outputs": [],
         "source": [
            "df.head()"
         ]
      },
      {
         "cell_type": "markdown",
         "metadata": {
            "id": "3_TlKbNgqxK0"
         },
         "source": [
            "# Data Quality Assessment"
         ]
      },
      {
         "cell_type": "markdown",
         "metadata": {},
         "source": [
            "Create a temporary daily consumption as it will be used in validity check."
         ]
      },
      {
         "cell_type": "code",
         "execution_count": null,
         "metadata": {
            "id": "SMlp1ypGDaAJ"
         },
         "outputs": [],
         "source": [
            "daily_consumption=df.with_columns(\n",
            "        (pl.col(\"CUMMULATIVE_CONSUMPTION\") - pl.col(\"CUMMULATIVE_CONSUMPTION\").shift(1))\n",
            "        .over(\"DEVICE_ID\")\n",
            "        .alias(\"DAILY_CONSUMPTION\")\n",
            "    ).filter(pl.col(\"DAILY_CONSUMPTION\").is_not_null())"
         ]
      },
      {
         "cell_type": "markdown",
         "metadata": {
            "id": "I6xgRNIgqxK0"
         },
         "source": [
            "### Validity\n",
            "\n",
            "Validity is strictly the business rule checks on the dataset. \n",
            "\n",
            "Eqn: If record = 0 or daily consumption is < 1, then record invalid. Because it is a cummulative consumption, so the daily consumption must always increase, or at the worst case, remain stagnant if there are no consumption.\n",
            "\n",
            "It also applies to the cummulative consumption, it must always accummulative and not drop to zero. If it does, it can signify device reset or repair."
         ]
      },
      {
         "cell_type": "code",
         "execution_count": null,
         "metadata": {
            "colab": {
               "base_uri": "https://localhost:8080/",
               "height": 254
            },
            "id": "_AUK1xGRqxK0",
            "outputId": "2e0d71b5-47be-40ff-cd2d-12328560df3f"
         },
         "outputs": [],
         "source": [
            "# Step 1: Flag invalid rows based on business rules\n",
            "daily_consumption = daily_consumption.with_columns(\n",
            "    pl.when(\n",
            "        (pl.col(\"CUMMULATIVE_CONSUMPTION\") == 0) | (pl.col(\"DAILY_CONSUMPTION\") < 0)\n",
            "    )\n",
            "    .then(0)  # Flag as False / 0 if invalid\n",
            "    .otherwise(1)  # Otherwise True / 1\n",
            "    .alias(\"VALIDITY\")\n",
            ")\n",
            "daily_consumption.head()"
         ]
      },
      {
         "cell_type": "code",
         "execution_count": null,
         "metadata": {
            "colab": {
               "base_uri": "https://localhost:8080/",
               "height": 160
            },
            "id": "V_rRJAXhqxK0",
            "outputId": "e9e3ba73-b9a9-4cc0-c9db-c68737a98bf4"
         },
         "outputs": [],
         "source": [
            "daily_consumption['VALIDITY'].value_counts()"
         ]
      },
      {
         "cell_type": "markdown",
         "metadata": {},
         "source": [
            "#### Visualization"
         ]
      },
      {
         "cell_type": "code",
         "execution_count": null,
         "metadata": {},
         "outputs": [],
         "source": [
            "invalid_devices = daily_consumption.filter(pl.col('VALIDITY') == 0)[\"DEVICE_ID\"].unique()\n",
            "device_ids = random.sample(list(invalid_devices), min(10, len(invalid_devices)))"
         ]
      },
      {
         "cell_type": "code",
         "execution_count": null,
         "metadata": {
            "scrolled": true
         },
         "outputs": [],
         "source": [
            "for device_id in device_ids:\n",
            "    device_data = daily_consumption.filter(pl.col('DEVICE_ID')==device_id)\n",
            "    plt.figure(figsize=(12, 6))\n",
            "    for validity_, group in device_data.group_by(\"VALIDITY\"):\n",
            "        validity = validity_[0]\n",
            "        label = f\"{device_id} - {'Valid' if validity == 1 else 'Invalid'}\"\n",
            "        plt.plot(\n",
            "            group[\"DATE\"],\n",
            "            group[\"CUMMULATIVE_CONSUMPTION\"],\n",
            "            marker=\"o\",\n",
            "            linestyle=\"-\",\n",
            "            label=label,\n",
            "            color=\"green\" if validity == 1 else \"red\",\n",
            "        )\n",
            "\n",
            "    # Add plot details\n",
            "    plt.title(\"Cumulative Consumption with Validity Highlight (Random Devices)\", fontsize=14)\n",
            "    plt.xlabel(\"Date\", fontsize=12)\n",
            "    plt.ylabel(\"Cumulative Consumption\", fontsize=12)\n",
            "    plt.legend(title=\"Validity\", fontsize=10)\n",
            "    plt.grid(True, linestyle=\"--\", alpha=0.7)\n",
            "    plt.tight_layout()\n",
            "\n",
            "    # Show the plot\n",
            "    plt.show()"
         ]
      },
      {
         "cell_type": "markdown",
         "metadata": {
            "id": "o2RCGyG6qxK2"
         },
         "source": [
            "### Timeliness\n",
            "\n",
            "Timeliness is to measure if the devices sends data at the required time. The IAT Regularity is used for this."
         ]
      },
      {
         "cell_type": "code",
         "execution_count": null,
         "metadata": {
            "colab": {
               "base_uri": "https://localhost:8080/"
            },
            "id": "tjYxzQ0EqxK2",
            "outputId": "beb27ce8-860b-4be1-dbd7-78f8480ea4db"
         },
         "outputs": [],
         "source": [
            "daily_consumption.shape[0]"
         ]
      },
      {
         "cell_type": "code",
         "execution_count": null,
         "metadata": {
            "colab": {
               "base_uri": "https://localhost:8080/",
               "height": 254
            },
            "id": "geTN0MfuE_Hp",
            "outputId": "0886edfc-cc0d-48ff-e148-ff94b49f3885"
         },
         "outputs": [],
         "source": [
            "daily_consumption.head()"
         ]
      },
      {
         "cell_type": "code",
         "execution_count": null,
         "metadata": {},
         "outputs": [],
         "source": [
            "def compute_timeliness_metric_polars(df: pl.DataFrame, device_col=\"DEVICE_ID\", date_col=\"DATE\"):\n",
            "    \"\"\"\n",
            "    Computes the Inter-Arrival Time Regularity metric for timeliness assessment using Polars.\n",
            "    \n",
            "    Parameters:\n",
            "        df (pl.DataFrame): The input dataframe containing timestamps and device IDs.\n",
            "        device_col (str): The name of the device ID column.\n",
            "        date_col (str): The name of the date column.\n",
            "\n",
            "    Returns:\n",
            "        pl.DataFrame: A dataframe containing the timeliness metric per record.\n",
            "    \"\"\"\n",
            "    \n",
            "    # Compute inter-arrival time (IAT) in days for each device\n",
            "    df = df.sort([device_col, date_col])  \n",
            "    df = df.with_columns(\n",
            "        (pl.col(date_col).diff().dt.total_days().over(device_col)).alias(\"IAT\")\n",
            "    )\n",
            "\n",
            "    # Fill NaN values (first row per device) with 1 (since mode is 1)\n",
            "    df = df.fill_null(1)\n",
            "\n",
            "    # Compute Relative Absolute Error (RAE) assuming mode = 1 day\n",
            "    df = df.with_columns(\n",
            "        pl.col(\"IAT\").sub(1).abs().alias(\"RAE\")  # Fixed absolute value computation\n",
            "    )\n",
            "\n",
            "    # Compute goodness and penalty\n",
            "    df = df.with_columns(\n",
            "        pl.when(pl.col(\"RAE\") <= 0.5)\n",
            "        .then(1 - 2 * pl.col(\"RAE\"))\n",
            "        .otherwise(0)\n",
            "        .alias(\"goodness\"),\n",
            "        pl.when(pl.col(\"RAE\") > 0.5)\n",
            "        .then(2 * pl.col(\"RAE\"))\n",
            "        .otherwise(0)\n",
            "        .alias(\"penalty\"),\n",
            "    )\n",
            "\n",
            "    # Compute the timeliness score per record\n",
            "    df = df.with_columns(\n",
            "        (pl.col(\"goodness\") / (1 + pl.col(\"penalty\"))).cast(pl.Int8).alias(\"TIMELINESS\")\n",
            "    )\n",
            "\n",
            "    return df.select([device_col, date_col, \"IAT\", \"RAE\", \"TIMELINESS\",\"CUMMULATIVE_CONSUMPTION\",\"VALIDITY\"])\n",
            "\n",
            "# Compute timeliness metric\n",
            "timeliness_df = compute_timeliness_metric_polars(daily_consumption)"
         ]
      },
      {
         "cell_type": "code",
         "execution_count": null,
         "metadata": {},
         "outputs": [],
         "source": [
            "timeliness_df.head()"
         ]
      },
      {
         "cell_type": "code",
         "execution_count": null,
         "metadata": {},
         "outputs": [],
         "source": [
            "timeliness_df['TIMELINESS'].value_counts()"
         ]
      },
      {
         "cell_type": "markdown",
         "metadata": {},
         "source": [
            "#### Visualization - Missing data pattern"
         ]
      },
      {
         "cell_type": "code",
         "execution_count": null,
         "metadata": {},
         "outputs": [],
         "source": [
            "# Ensure output directory exists\n",
            "output_dir = \"../visualizations/plots\"\n",
            "\n",
            "\n",
            "# Filter data for Device 1187 and sort by date\n",
            "device_1187 = df.filter(pl.col(\"DEVICE_ID\") == 1187).sort(\"DATE\")\n",
            "\n",
            "# known missing periods from EDA\n",
            "missing_periods = [\n",
            "    (\"2024-05-17\", \"2024-06-17\"),\n",
            "    (\"2024-06-17\", \"2024-07-30\"),\n",
            "    (\"2024-07-30\", \"2024-08-05\"),\n",
            "]\n",
            "\n",
            "# Convert missing period dates to datetime\n",
            "missing_periods = [(pd.to_datetime(start), pd.to_datetime(end)) for start, end in missing_periods]\n",
            "\n",
            "# Convert resumption dates for marking missing periods\n",
            "resumption_dates = [end for _, end in missing_periods]\n",
            "resumption_values = device_1187.filter(pl.col(\"DATE\").is_in(pl.Series(\"DATE\", resumption_dates).cast(pl.Date)))[\"CUMMULATIVE_CONSUMPTION\"]\n",
            "\n",
            "# Plot reported values\n",
            "plt.figure(figsize=(12, 6), dpi=300)  # High-resolution output\n",
            "plt.plot(\n",
            "    device_1187[\"DATE\"], \n",
            "    device_1187[\"CUMMULATIVE_CONSUMPTION\"], \n",
            "    marker=\"o\", linestyle=\"-\", color=\"blue\", label=\"Reported Values\"\n",
            ")\n",
            "\n",
            "# Highlight missing periods as shaded regions (only label first occurrence)\n",
            "for i, (start, end) in enumerate(missing_periods):\n",
            "    plt.axvspan(start, end, color=\"red\", alpha=0.3, label=\"Long Missing Gaps\" if i == 0 else \"\")\n",
            "\n",
            "# Formatting\n",
            "plt.xlabel(\"Date\", fontsize=12)\n",
            "plt.ylabel(\"Water Consumption Value\", fontsize=12)\n",
            "plt.title(\"Missing Data Patterns for Device 1187\", fontsize=14)\n",
            "plt.legend(fontsize=10)\n",
            "plt.xticks(rotation=45)\n",
            "plt.grid(True)\n",
            "\n",
            "# Save figure in high quality for thesis inclusion\n",
            "plt.savefig(f\"{output_dir}/missing_data_device_1187.png\", dpi=300, bbox_inches=\"tight\")\n",
            "\n",
            "plt.show()\n"
         ]
      },
      {
         "cell_type": "code",
         "execution_count": null,
         "metadata": {
            "id": "sHgStFrJqxK2"
         },
         "outputs": [],
         "source": [
            "# Step 1: Calculate Maximum IAT per Device\n",
            "iat_ranking = timeliness_df.group_by(\"DEVICE_ID\").agg(\n",
            "    pl.col(\"IAT\").max().alias(\"MAX_IAT\")\n",
            ")"
         ]
      },
      {
         "cell_type": "code",
         "execution_count": null,
         "metadata": {
            "colab": {
               "base_uri": "https://localhost:8080/",
               "height": 411
            },
            "id": "9LZ6sCyDqxK3",
            "outputId": "f0141f44-f880-47e2-c56c-827401ad2b76",
            "scrolled": true
         },
         "outputs": [],
         "source": [
            "iat_ranking.head(20)"
         ]
      },
      {
         "cell_type": "markdown",
         "metadata": {
            "id": "BYHy-OWhqxK1"
         },
         "source": [
            "### Accuracy\n",
            "\n",
            "Accuracy will be based on statistical outlier detection. If a device is already invalid, it'll be removed from the accuracy outlier detection algorithm. It will use four approaches to detect outliers -> IF[3], MAD [1], and Z-Score [2].\n",
            "\n",
            "Becuase we don't have a groundtruth to compare with, hence the need to rely on robust statistical outliers. Some may be real events, however, this information is not known. Then we will flag points that are captured by the three outlier detection techniques. If the three captures a record, then it must mean it's truly an outlier. Other uncaptured records, will be considered accurate.\n",
            "\n",
            "1) J. Byabazaire, G. M. P. O’Hare and D. T. Delaney, \"End-to-End Data Quality Assessment Using Trust for Data Shared IoT Deployments,\" in IEEE Sensors Journal, vol. 22, no. 20, pp. 19995-20009, 15 Oct.15, 2022, doi: 10.1109/JSEN.2022.3203853\n",
            "2) Görenekli, K.; Gülba˘g, A.\n",
            "Comparative Analysis of Machine Learning Techniques for Water Consumption Prediction: A Case Study from Kocaeli Province. Sensors\n",
            "2024, 24, 5846. https://doi.org/ 10.3390/s24175846\n",
            "3) Isolation Forest: TOWARDS EXPLAINABLE AUTOMATED DATA QUALITY ENHANCEMENT WITHOUT DOMAIN KNOWLEDGE\n"
         ]
      },
      {
         "cell_type": "code",
         "execution_count": null,
         "metadata": {
            "scrolled": true
         },
         "outputs": [],
         "source": [
            "\n",
            "# IQR method\n",
            "def detect_outliers_iqr(data):\n",
            "    q1 = np.percentile(data, 25)\n",
            "    q3 = np.percentile(data, 75)\n",
            "    iqr = q3 - q1\n",
            "    lower_bound = q1 - 1.5 * iqr\n",
            "    upper_bound = q3 + 1.5 * iqr\n",
            "    return (data < lower_bound) | (data > upper_bound)\n",
            "\n",
            "# MAD method\n",
            "def detect_outliers_mad(data, threshold=3):\n",
            "    median = np.median(data)\n",
            "    mad = np.median(np.abs(data - median))\n",
            "    modified_z_score = 0.6745 * (data - median) / mad\n",
            "    return np.abs(modified_z_score) > threshold\n",
            "\n",
            "# Isolation Forest method\n",
            "def detect_outliers_isolation_forest(data):\n",
            "    iso = IsolationForest(random_state=42,contamination='auto')\n",
            "    return iso.fit_predict(data.reshape(-1, 1)) == -1"
         ]
      },
      {
         "cell_type": "code",
         "execution_count": null,
         "metadata": {
            "scrolled": true
         },
         "outputs": [],
         "source": [
            "# Outlier detection workflow for a single device\n",
            "def detect_outliers_per_device(device_data):\n",
            "    # Mark `VALIDITY = 0` as outliers automatically because invalid records are inaccurate automatically\n",
            "    device_data = device_data.with_columns(\n",
            "        pl.when(pl.col(\"VALIDITY\") == 0)\n",
            "        .then(True)  # Automatically mark as outlier\n",
            "        .otherwise(False)\n",
            "        .alias(\"FINAL_OUTLIER\")\n",
            "    )\n",
            "\n",
            "    # Filter out records with VALIDITY=0 before outlier detection\n",
            "    valid_data = device_data.filter(pl.col(\"VALIDITY\") == 1)\n",
            "\n",
            "    # Proceed only if valid data exists\n",
            "    if not valid_data.is_empty():\n",
            "      \n",
            "        data = valid_data[\"CUMMULATIVE_CONSUMPTION\"].to_numpy()\n",
            "\n",
            "        # Initialize empty columns for all possible outlier methods\n",
            "        valid_data = valid_data.with_columns(\n",
            "            pl.lit(False).alias(\"OUTLIER_IQR\"),\n",
            "            pl.lit(False).alias(\"OUTLIER_MAD\"),\n",
            "            pl.lit(False).alias(\"OUTLIER_ISO\"),\n",
            "        )\n",
            "        \n",
            "        iqr_outliers = detect_outliers_iqr(data)\n",
            "        mad_outliers = detect_outliers_mad(data)\n",
            "        iso_outliers = detect_outliers_isolation_forest(data)\n",
            "        \n",
            "        valid_data = valid_data.with_columns(\n",
            "            pl.Series(\"OUTLIER_ISO\", iso_outliers),\n",
            "            pl.Series(\"OUTLIER_MAD\", mad_outliers),\n",
            "            pl.Series(\"OUTLIER_IQR\", iqr_outliers),\n",
            "        )\n",
            "        # Combine Z-score and IQR using logical AND\n",
            "        final_outlier = np.logical_and(iqr_outliers, np.logical_and(mad_outliers, iso_outliers))\n",
            "\n",
            "        # Update FINAL_OUTLIER for valid records\n",
            "        valid_data = valid_data.with_columns(\n",
            "            pl.Series(\"FINAL_OUTLIER\", final_outlier)\n",
            "        )\n",
            "\n",
            "        # Add missing columns to invalid data with default values\n",
            "        invalid_data = device_data.filter(pl.col(\"VALIDITY\") == 0).with_columns(\n",
            "            pl.lit(False).alias(\"OUTLIER_IQR\"),\n",
            "            pl.lit(False).alias(\"OUTLIER_MAD\"),\n",
            "            pl.lit(False).alias(\"OUTLIER_ISO\"),\n",
            "        )\n",
            "\n",
            "        # Combine updated valid data with invalid data\n",
            "        device_data = valid_data.vstack(invalid_data)\n",
            "        \n",
            "    return device_data\n",
            "\n",
            "# Group data by DEVICE_ID and apply the workflow\n",
            "result = []\n",
            "for device_id, group in timeliness_df.group_by(\"DEVICE_ID\"):\n",
            "    processed_group = detect_outliers_per_device(group)\n",
            "    result.append(processed_group)\n",
            "\n",
            "# Concatenate results into a single DataFrame\n",
            "result_df = pl.concat(result)"
         ]
      },
      {
         "cell_type": "code",
         "execution_count": null,
         "metadata": {},
         "outputs": [],
         "source": [
            "result_df['OUTLIER_MAD'].value_counts()"
         ]
      },
      {
         "cell_type": "code",
         "execution_count": null,
         "metadata": {},
         "outputs": [],
         "source": [
            "result_df['OUTLIER_ISO'].value_counts()"
         ]
      },
      {
         "cell_type": "code",
         "execution_count": null,
         "metadata": {},
         "outputs": [],
         "source": [
            "result_df['OUTLIER_IQR'].value_counts()"
         ]
      },
      {
         "cell_type": "code",
         "execution_count": null,
         "metadata": {},
         "outputs": [],
         "source": [
            "result_df['FINAL_OUTLIER'].value_counts()"
         ]
      },
      {
         "cell_type": "markdown",
         "metadata": {},
         "source": [
            "#### Visualization"
         ]
      },
      {
         "cell_type": "code",
         "execution_count": null,
         "metadata": {
            "scrolled": true
         },
         "outputs": [],
         "source": [
            "# Step 1: Aggregate to count outliers per device\n",
            "outlier_summary = (\n",
            "    result_df\n",
            "    .filter(pl.col(\"FINAL_OUTLIER\") == 1)  # Filter rows marked as outliers\n",
            "    .group_by(\"DEVICE_ID\")\n",
            "    .agg(pl.count().alias(\"OUTLIER_COUNT\"))  # Count outliers per device\n",
            "    .sort(\"OUTLIER_COUNT\", descending=True)  # Sort devices by the number of outliers\n",
            ")\n",
            "\n",
            "# Step 2: Select top N devices with the most outliers\n",
            "top_n = 5  # Adjust this value as needed\n",
            "top_devices = outlier_summary.head(top_n)\n",
            "\n",
            "# Step 3: Filter data for the top devices\n",
            "top_device_ids = top_devices[\"DEVICE_ID\"].to_list()\n",
            "top_device_data = result_df.filter(pl.col(\"DEVICE_ID\").is_in(top_device_ids))\n",
            "\n",
            "\n",
            "for device_id in top_device_ids:\n",
            "    device_data = top_device_data.filter(pl.col(\"DEVICE_ID\") == device_id)\n",
            "    # Step 4: Visualize cumulative consumption for the top devices\n",
            "    plt.figure(figsize=(12, 8))\n",
            "    # Plot valid points\n",
            "    plt.plot(\n",
            "        device_data.filter(pl.col(\"FINAL_OUTLIER\") == 0)[\"DATE\"],\n",
            "        device_data.filter(pl.col(\"FINAL_OUTLIER\") == 0)[\"CUMMULATIVE_CONSUMPTION\"],\n",
            "        marker=\"o\",\n",
            "        label=f\"{device_id} - Valid\",\n",
            "        linestyle=\"-\",\n",
            "        alpha=0.8,\n",
            "    )\n",
            "    \n",
            "    # Plot outliers\n",
            "    plt.scatter(\n",
            "        device_data.filter(pl.col(\"FINAL_OUTLIER\") == 1)[\"DATE\"],\n",
            "        device_data.filter(pl.col(\"FINAL_OUTLIER\") == 1)[\"CUMMULATIVE_CONSUMPTION\"],\n",
            "        color=\"red\",\n",
            "        label=f\"{device_id} - Outlier\",\n",
            "        alpha=0.8,\n",
            "    )\n",
            "\n",
            "    # Add plot details\n",
            "    plt.title(\"Top Devices with the Most Outliers\", fontsize=14)\n",
            "    plt.xlabel(\"Date\", fontsize=12)\n",
            "    plt.ylabel(\"Cumulative Consumption\", fontsize=12)\n",
            "    plt.legend(fontsize=10, title=\"Legend\")\n",
            "    plt.grid(alpha=0.5, linestyle=\"--\")\n",
            "    plt.tight_layout()\n",
            "    \n",
            "    # Show plot\n",
            "    plt.show()\n"
         ]
      },
      {
         "cell_type": "code",
         "execution_count": null,
         "metadata": {},
         "outputs": [],
         "source": [
            "outlier_summary.head(10)"
         ]
      },
      {
         "cell_type": "code",
         "execution_count": null,
         "metadata": {},
         "outputs": [],
         "source": [
            "result_df.head()"
         ]
      },
      {
         "cell_type": "markdown",
         "metadata": {},
         "source": [
            "#### Determine Accuracy using Final Outlier"
         ]
      },
      {
         "cell_type": "code",
         "execution_count": null,
         "metadata": {},
         "outputs": [],
         "source": [
            "# Step 1: Create an Accuracy Column\n",
            "result_df = result_df.with_columns(\n",
            "    pl.when(pl.col(\"FINAL_OUTLIER\") == 0)\n",
            "    .then(1)  # Mark as accurate if FINAL_OUTLIER is 0\n",
            "    .otherwise(0)  # Mark as inaccurate if FINAL_OUTLIER is not 0\n",
            "    .alias(\"ACCURACY\")\n",
            ")\n",
            "\n",
            "result_df.head()"
         ]
      },
      {
         "cell_type": "markdown",
         "metadata": {},
         "source": [
            "#### Nullify the outliers"
         ]
      },
      {
         "cell_type": "code",
         "execution_count": null,
         "metadata": {},
         "outputs": [],
         "source": [
            "result_df = result_df.with_columns(\n",
            "        pl.when(pl.col(\"FINAL_OUTLIER\"))\n",
            "        .then(None)  # Replace outliers with None (null)\n",
            "        .otherwise(pl.col(\"CUMMULATIVE_CONSUMPTION\"))\n",
            "        .alias(\"CUMMULATIVE_CONSUMPTION\")\n",
            "    )"
         ]
      },
      {
         "cell_type": "code",
         "execution_count": null,
         "metadata": {},
         "outputs": [],
         "source": [
            "# Count NaN/null values in the 'DAILY_CONSUMPTION_CLEANED' column\n",
            "nan_count_column = result_df.select(\n",
            "    pl.col(\"CUMMULATIVE_CONSUMPTION\").is_null().sum().alias(\"NaN_Count\")\n",
            ")\n",
            "print(nan_count_column)\n"
         ]
      },
      {
         "cell_type": "markdown",
         "metadata": {},
         "source": [
            "### Completeness"
         ]
      },
      {
         "cell_type": "code",
         "execution_count": null,
         "metadata": {},
         "outputs": [],
         "source": [
            "# Step 1: Calculate Date Range (Per Device)\n",
            "date_range = result_df.group_by(\"DEVICE_ID\").agg([\n",
            "    pl.col(\"DATE\").min().alias(\"START_DATE\"),\n",
            "    pl.col(\"DATE\").max().alias(\"END_DATE\"),\n",
            "])\n",
            "\n",
            "# Step 2: Calculate Expected Days (Device-Level)\n",
            "date_range = date_range.with_columns(\n",
            "    (pl.col(\"END_DATE\") - pl.col(\"START_DATE\")).dt.total_days().alias(\"EXPECTED_DAYS\")\n",
            ")\n",
            "\n",
            "# Add 1 to expected days to include both start and end date\n",
            "date_range = date_range.with_columns(\n",
            "    (pl.col(\"EXPECTED_DAYS\") + 1).alias(\"EXPECTED_DAYS\")\n",
            ")\n",
            "\n",
            "# Step 3: Filter out rows with null values in 'CUMULATIVE_CONSUMPTION'\n",
            "filtered_df = result_df.filter(pl.col(\"CUMMULATIVE_CONSUMPTION\").is_not_null())\n",
            "\n",
            "# Step 4: Count Reported Days (Device-Level) after removing nulls\n",
            "reported_days = filtered_df.group_by(\"DEVICE_ID\").agg(\n",
            "    pl.col(\"DATE\").n_unique().alias(\"REPORTED_DAYS\")  # Use n_unique to count unique dates\n",
            ")\n",
            "\n",
            "# Step 5: Join Expected and Reported Days\n",
            "completeness_df = date_range.join(reported_days, on=\"DEVICE_ID\")\n",
            "\n",
            "# Calculate Completeness Metric\n",
            "completeness_df = completeness_df.with_columns(\n",
            "    (pl.col(\"REPORTED_DAYS\") / pl.col(\"EXPECTED_DAYS\") * 100).alias(\"COMPLETENESS_PERCENTAGE\")\n",
            ")\n",
            "\n",
            "# Display result\n",
            "completeness_df.head()"
         ]
      },
      {
         "cell_type": "code",
         "execution_count": null,
         "metadata": {},
         "outputs": [],
         "source": [
            "completeness_df['DEVICE_ID'].n_unique()"
         ]
      },
      {
         "cell_type": "code",
         "execution_count": null,
         "metadata": {},
         "outputs": [],
         "source": [
            "completeness_df.sort('COMPLETENESS_PERCENTAGE', descending=False).head(10)"
         ]
      },
      {
         "cell_type": "code",
         "execution_count": null,
         "metadata": {},
         "outputs": [],
         "source": [
            "completeness_df.sort('REPORTED_DAYS', descending=False).head(10)"
         ]
      },
      {
         "cell_type": "markdown",
         "metadata": {},
         "source": [
            "#### Visualization"
         ]
      },
      {
         "cell_type": "code",
         "execution_count": null,
         "metadata": {},
         "outputs": [],
         "source": [
            "\n",
            "# Step 1: Sort by Completeness and Select Top 30 Devices\n",
            "top_devices = completeness_df.sort(\"COMPLETENESS_PERCENTAGE\").head(30)[\"DEVICE_ID\"].to_list()\n",
            "\n",
            "# Step 2: Filter Data for Top Devices\n",
            "top_device_data = result_df.filter(pl.col(\"DEVICE_ID\").is_in(top_devices))\n",
            "\n",
            "# Step 3: Prepare Data for Heatmap\n",
            "heatmap_data = top_device_data.select([\"DEVICE_ID\", \"DATE\", \"CUMMULATIVE_CONSUMPTION\"]).to_pandas()\n",
            "\n",
            "# Ensure the DATE column is in datetime format for proper sorting\n",
            "heatmap_data[\"DATE\"] = pd.to_datetime(heatmap_data[\"DATE\"])\n",
            "\n",
            "# Pivot for Heatmap (Devices as Rows, Dates as Columns)\n",
            "heatmap_pivot = heatmap_data.pivot(index=\"DEVICE_ID\", columns=\"DATE\", values=\"CUMMULATIVE_CONSUMPTION\")\n",
            "\n",
            "# Step 4: Plot the Heatmap\n",
            "plt.figure(figsize=(14, 8))\n",
            "sns.heatmap(\n",
            "    heatmap_pivot.isna(),  # Highlight missing data (NaN)\n",
            "    cmap=\"Reds\",  # Missing data in shades of red\n",
            "    cbar=False,\n",
            "    linewidths=0.5,\n",
            "    linecolor=\"gray\"\n",
            ")\n",
            "\n",
            "plt.title(\"Missing Data Heatmap (Top 10 Devices by Poor Completeness)\", fontsize=16)\n",
            "plt.xlabel(\"Date\", fontsize=12)\n",
            "plt.ylabel(\"Device ID\", fontsize=12)\n",
            "plt.xticks(rotation=45, fontsize=10)\n",
            "plt.yticks(fontsize=10)\n",
            "plt.tight_layout()\n",
            "plt.savefig(f\"{output_dir}/completeness_heatmap.png\", dpi=300, bbox_inches=\"tight\")\n",
            "plt.show()\n"
         ]
      },
      {
         "cell_type": "markdown",
         "metadata": {
            "id": "0dJFoKHsqxK3"
         },
         "source": [
            "## Dimensions Scoring"
         ]
      },
      {
         "cell_type": "code",
         "execution_count": null,
         "metadata": {},
         "outputs": [],
         "source": [
            "result_df.head()"
         ]
      },
      {
         "cell_type": "markdown",
         "metadata": {
            "id": "ANim3JgOqxK3"
         },
         "source": [
            "### Accuracy\n",
            "\n",
            "Compute accuracy for each device and the whole dataset"
         ]
      },
      {
         "cell_type": "code",
         "execution_count": null,
         "metadata": {
            "colab": {
               "base_uri": "https://localhost:8080/"
            },
            "id": "QqG2ZA23qxK3",
            "outputId": "c116bd7c-d668-4506-8eb3-546abb34a0a5"
         },
         "outputs": [],
         "source": [
            "# Step 1: Compute Accuracy Per Device\n",
            "accuracy_df = result_df.group_by(\"DEVICE_ID\").agg([\n",
            "    pl.sum(\"ACCURACY\").alias(\"ACCURATE_RECORDS\"),\n",
            "    pl.count().alias(\"TOTAL_RECORDS\"),\n",
            "])\n",
            "\n",
            "# Step 2: Compute Accuracy Percentage\n",
            "accuracy_df = accuracy_df.with_columns(\n",
            "    ((pl.col(\"ACCURATE_RECORDS\") / pl.col(\"TOTAL_RECORDS\")) * 100).alias(\"ACCURACY_PERCENT\")\n",
            ")\n",
            "\n",
            "# Step 3: Compute Overall Dataset Accuracy\n",
            "overall_accuracy = (result_df[\"ACCURACY\"].sum() / result_df.height) * 100\n",
            "\n",
            "print(f\"Overall Dataset Accuracy: {overall_accuracy:.2f}%\")"
         ]
      },
      {
         "cell_type": "code",
         "execution_count": null,
         "metadata": {
            "colab": {
               "base_uri": "https://localhost:8080/",
               "height": 254
            },
            "id": "SSFkQ3T-qxK3",
            "outputId": "1c36a881-609e-426a-df16-57232099eef7"
         },
         "outputs": [],
         "source": [
            "accuracy_df.sort('ACCURACY_PERCENT', descending=False).head(10)"
         ]
      },
      {
         "cell_type": "markdown",
         "metadata": {
            "id": "i_YnKvsQqxK3"
         },
         "source": [
            "#### Visualization and exports"
         ]
      },
      {
         "cell_type": "code",
         "execution_count": null,
         "metadata": {},
         "outputs": [],
         "source": [
            "# Export csv\n",
            "accuracy_df.write_csv('../exports/accuracy_dqs.csv')"
         ]
      },
      {
         "cell_type": "code",
         "execution_count": null,
         "metadata": {
            "colab": {
               "base_uri": "https://localhost:8080/",
               "height": 1000
            },
            "id": "fzgn98mWqxK3",
            "outputId": "fb3393c5-f63a-4678-c59d-47ef60f67eaa"
         },
         "outputs": [],
         "source": [
            "accuracy_df_pd = accuracy_df.to_pandas()\n",
            "# Ensure the output directory exists\n",
            "output_dir = \"../visualizations/plots\"\n",
            "os.makedirs(output_dir, exist_ok=True)\n",
            "\n",
            "# Plot 1: Bar Chart of Accuracy Scores per Device\n",
            "plt.figure(figsize=(15, 6))\n",
            "sns.barplot(x=\"DEVICE_ID\", y=\"ACCURACY_PERCENT\", data=accuracy_df)\n",
            "plt.xticks([], [])  # Hide x-axis labels for readability\n",
            "plt.xlabel(\"Devices\")\n",
            "plt.ylabel(\"Accuracy Score (%)\")\n",
            "plt.title(\"Accuracy Score per Device (Abyei Camp)\")\n",
            "plt.grid(axis=\"y\", linestyle=\"--\", alpha=0.7)\n",
            "plt.savefig(f\"{output_dir}/accuracy_per_device.png\", dpi=300, bbox_inches=\"tight\")\n",
            "plt.show()"
         ]
      },
      {
         "cell_type": "code",
         "execution_count": null,
         "metadata": {},
         "outputs": [],
         "source": [
            "# Plot 2: Histogram of Accuracy Scores\n",
            "plt.figure(figsize=(10, 6))\n",
            "sns.histplot(accuracy_df_pd[\"ACCURACY_PERCENT\"], bins=20, kde=True, color=\"blue\")\n",
            "plt.xlabel(\"Accuracy Score (%)\")\n",
            "plt.ylabel(\"Number of Devices\")\n",
            "plt.title(\"Distribution of Device Accuracy Scores\")\n",
            "plt.grid(axis=\"y\", linestyle=\"--\", alpha=0.7)\n",
            "plt.savefig(f\"{output_dir}/accuracy_histogram.png\", dpi=300, bbox_inches=\"tight\")\n",
            "plt.show()\n"
         ]
      },
      {
         "cell_type": "code",
         "execution_count": null,
         "metadata": {},
         "outputs": [],
         "source": [
            "# Plot 5: Top & Bottom 30 Devices by Accuracy Score\n",
            "df_sorted = accuracy_df_pd.sort_values(\"ACCURACY_PERCENT\", ascending=True)\n",
            "\n",
            "plt.figure(figsize=(15, 6))\n",
            "sns.barplot(x=\"DEVICE_ID\", y=\"ACCURACY_PERCENT\", data=df_sorted.head(30), color=\"red\", label=\"Bottom 30 Devices\")\n",
            "sns.barplot(x=\"DEVICE_ID\", y=\"ACCURACY_PERCENT\", data=df_sorted.tail(30), color=\"green\", label=\"Top 30 Devices\")\n",
            "plt.xticks(rotation=90)\n",
            "plt.xlabel(\"Device ID\")\n",
            "plt.ylabel(\"Accuracy Score (%)\")\n",
            "plt.title(\"Top & Bottom 50 Devices by Accuracy Score\")\n",
            "plt.legend()\n",
            "plt.grid(axis=\"y\", linestyle=\"--\", alpha=0.7)\n",
            "plt.savefig(f\"{output_dir}/accuracy_top_bottom.png\", dpi=300, bbox_inches=\"tight\")\n",
            "plt.show()"
         ]
      },
      {
         "cell_type": "markdown",
         "metadata": {
            "id": "7Bn7YTIAqxK4"
         },
         "source": [
            "### Validity"
         ]
      },
      {
         "cell_type": "code",
         "execution_count": null,
         "metadata": {
            "colab": {
               "base_uri": "https://localhost:8080/"
            },
            "id": "VDVDs7hKqxK4",
            "outputId": "f3ecfb78-3f58-4329-c7fd-ad4976fb08c6"
         },
         "outputs": [],
         "source": [
            "# Step 2: Calculate Validity Per Device\n",
            "validity_per_device = result_df.group_by(\"DEVICE_ID\").agg([\n",
            "    pl.sum(\"VALIDITY\").alias(\"VALID_RECORDS\"),\n",
            "    pl.count().alias(\"TOTAL_RECORDS\")\n",
            "])\n",
            "\n",
            "# Step 3: Calculate Validity Percentage\n",
            "validity_per_device = validity_per_device.with_columns(\n",
            "    ((pl.col(\"VALID_RECORDS\") / pl.col(\"TOTAL_RECORDS\")) * 100).alias(\"VALIDITY_PERCENT\")\n",
            ")\n",
            "\n",
            "# Step 4: Compute Overall Validity (Entire Dataset)\n",
            "overall_validity = (result_df[\"VALIDITY\"].sum() / result_df.height) * 100\n",
            "\n",
            "overall_validity"
         ]
      },
      {
         "cell_type": "code",
         "execution_count": null,
         "metadata": {
            "colab": {
               "base_uri": "https://localhost:8080/",
               "height": 254
            },
            "id": "dS20PPh_qxK4",
            "outputId": "e08f90b5-f8ef-4d3f-ed65-9be49fdf88e9"
         },
         "outputs": [],
         "source": [
            "validity_per_device.sort('VALIDITY_PERCENT',descending=False).head()"
         ]
      },
      {
         "cell_type": "markdown",
         "metadata": {},
         "source": [
            "#### Visualization and exports"
         ]
      },
      {
         "cell_type": "code",
         "execution_count": null,
         "metadata": {},
         "outputs": [],
         "source": [
            "# Assuming your dataframe is named `validity_per_device` and contains 'DEVICE_ID' and 'VALIDITY_PERCENT' columns\n",
            "validity_scores = validity_per_device.to_pandas()\n",
            "validity_df = validity_scores.copy()\n",
            "\n",
            "# Plot 1: Bar Chart of Validity Scores per Device\n",
            "plt.figure(figsize=(15, 6))\n",
            "sns.barplot(x=\"DEVICE_ID\", y=\"VALIDITY_PERCENT\", data=validity_df)\n",
            "plt.xticks([], [])  # Hide x-axis labels for readability\n",
            "plt.xlabel(\"Devices\")\n",
            "plt.ylabel(\"Validity Score (%)\")\n",
            "plt.title(\"Validity Score per Device (Abyei Camp)\")\n",
            "plt.grid(axis=\"y\", linestyle=\"--\", alpha=0.7)\n",
            "plt.savefig(f\"{output_dir}/validity_per_device.png\", dpi=300, bbox_inches=\"tight\")\n",
            "plt.show()"
         ]
      },
      {
         "cell_type": "code",
         "execution_count": null,
         "metadata": {},
         "outputs": [],
         "source": [
            "# Plot 2: Histogram of Validity Scores\n",
            "plt.figure(figsize=(10, 6))\n",
            "sns.histplot(validity_df[\"VALIDITY_PERCENT\"], bins=20, kde=True, color=\"blue\")\n",
            "plt.xlabel(\"Validity Score (%)\")\n",
            "plt.ylabel(\"Number of Devices\")\n",
            "plt.title(\"Distribution of Device Validity Scores\")\n",
            "plt.grid(axis=\"y\", linestyle=\"--\", alpha=0.7)\n",
            "plt.savefig(f\"{output_dir}/validity_histogram.png\", dpi=300, bbox_inches=\"tight\")\n",
            "plt.show()"
         ]
      },
      {
         "cell_type": "code",
         "execution_count": null,
         "metadata": {},
         "outputs": [],
         "source": [
            "# Plot 3: Boxplot of Validity Scores\n",
            "plt.figure(figsize=(8, 5))\n",
            "sns.boxplot(x=validity_df[\"VALIDITY_PERCENT\"], color=\"cyan\")\n",
            "plt.xlabel(\"Validity Score (%)\")\n",
            "plt.title(\"Boxplot of Device Validity Scores\")\n",
            "plt.grid(axis=\"x\", linestyle=\"--\", alpha=0.7)\n",
            "plt.savefig(f\"{output_dir}/validity_boxplot.png\", dpi=300, bbox_inches=\"tight\")\n",
            "plt.show()\n"
         ]
      },
      {
         "cell_type": "code",
         "execution_count": null,
         "metadata": {},
         "outputs": [],
         "source": [
            "# Plot 4: Scatter Plot - Validity Score vs. Total Records\n",
            "plt.figure(figsize=(10, 6))\n",
            "sns.scatterplot(x=\"TOTAL_RECORDS\", y=\"VALIDITY_PERCENT\", data=validity_df, alpha=0.7, color=\"purple\")\n",
            "plt.xlabel(\"Total Records per Device\")\n",
            "plt.ylabel(\"Validity Score (%)\")\n",
            "plt.title(\"Scatter Plot: Validity Score vs. Total Records\")\n",
            "plt.grid(True, linestyle=\"--\", alpha=0.7)\n",
            "plt.savefig(f\"{output_dir}/validity_scatter.png\", dpi=300, bbox_inches=\"tight\")\n",
            "plt.show()"
         ]
      },
      {
         "cell_type": "code",
         "execution_count": null,
         "metadata": {},
         "outputs": [],
         "source": [
            "# Plot 5: Top & Bottom 30 Devices by Validity Score\n",
            "df_sorted = validity_df.sort_values(\"VALIDITY_PERCENT\", ascending=True)\n",
            "\n",
            "plt.figure(figsize=(15, 6))\n",
            "sns.barplot(x=\"DEVICE_ID\", y=\"VALIDITY_PERCENT\", data=df_sorted.head(30), color=\"red\", label=\"Bottom 30 Devices\")\n",
            "sns.barplot(x=\"DEVICE_ID\", y=\"VALIDITY_PERCENT\", data=df_sorted.tail(30), color=\"green\", label=\"Top 30 Devices\")\n",
            "plt.xticks(rotation=90)\n",
            "plt.xlabel(\"Device ID\")\n",
            "plt.ylabel(\"Validity Score (%)\")\n",
            "plt.title(\"Top & Bottom 50 Devices by Validity Score\")\n",
            "plt.legend()\n",
            "plt.grid(axis=\"y\", linestyle=\"--\", alpha=0.7)\n",
            "plt.savefig(f\"{output_dir}/validity_top_bottom.png\", dpi=300, bbox_inches=\"tight\")\n",
            "plt.show()"
         ]
      },
      {
         "cell_type": "code",
         "execution_count": null,
         "metadata": {},
         "outputs": [],
         "source": [
            "\n",
            "# Plot 6: Distribution of Devices by Validity Score Ranges\n",
            "bins = [0, 50, 70, 85, 95, 100]\n",
            "labels = [\"<50%\", \"50-69%\", \"70-84%\", \"85-94%\", \"95-100%\"]\n",
            "validity_df[\"VALIDITY_BIN\"] = pd.cut(validity_df[\"VALIDITY_PERCENT\"], bins=bins, labels=labels, right=True)\n",
            "\n",
            "plt.figure(figsize=(10, 6))\n",
            "sns.countplot(x=\"VALIDITY_BIN\", data=validity_df, palette=\"Blues_r\")\n",
            "plt.xlabel(\"Validity Score Ranges\")\n",
            "plt.ylabel(\"Number of Devices\")\n",
            "plt.title(\"Distribution of Devices by Validity Score Range\")\n",
            "plt.grid(axis=\"y\", linestyle=\"--\", alpha=0.7)\n",
            "plt.savefig(f\"{output_dir}/validity_distribution.png\", dpi=300, bbox_inches=\"tight\")\n",
            "plt.show()\n"
         ]
      },
      {
         "cell_type": "markdown",
         "metadata": {
            "id": "fRe_jGwOqxK4"
         },
         "source": [
            "### Timeliness"
         ]
      },
      {
         "cell_type": "code",
         "execution_count": null,
         "metadata": {},
         "outputs": [],
         "source": [
            "result_df.head()"
         ]
      },
      {
         "cell_type": "code",
         "execution_count": null,
         "metadata": {
            "colab": {
               "base_uri": "https://localhost:8080/"
            },
            "id": "vyFWX_5uqxK4",
            "outputId": "fa7bd4f6-7194-461c-940e-884e4aa55e8c"
         },
         "outputs": [],
         "source": [
            "# Aggregate Timeliness Per Device\n",
            "timeliness_per_device = result_df.group_by(\"DEVICE_ID\").agg([\n",
            "    (pl.mean(\"TIMELINESS\")*100).alias(\"AVG_TIMELINESS\"),\n",
            "    pl.count().alias(\"TOTAL_RECORDS\")\n",
            "])\n",
            "\n",
            "# Calculate Overall Timeliness for Entire Dataset\n",
            "overall_timeliness = result_df[\"TIMELINESS\"].mean()\n",
            "\n",
            "print(f\"Overall Dataset Timeliness: {overall_timeliness:.2%}\")"
         ]
      },
      {
         "cell_type": "code",
         "execution_count": null,
         "metadata": {
            "colab": {
               "base_uri": "https://localhost:8080/",
               "height": 254
            },
            "id": "Ftd652PwqxK4",
            "outputId": "4ef90115-0b92-48d0-8e75-66e4df0a6a9d"
         },
         "outputs": [],
         "source": [
            "timeliness_per_device.sort('AVG_TIMELINESS',descending=False).head()"
         ]
      },
      {
         "cell_type": "markdown",
         "metadata": {},
         "source": [
            "#### Visualization and exports"
         ]
      },
      {
         "cell_type": "code",
         "execution_count": null,
         "metadata": {},
         "outputs": [],
         "source": [
            "# Assuming your dataframe is named `timeliness_per_device` and contains 'DEVICE_ID' and 'AVG_TIMELINESS' columns\n",
            "timeliness_scores = timeliness_per_device.to_pandas()\n",
            "timeliness_df = timeliness_scores.copy()\n",
            "\n",
            "# Plot 1: Bar Chart of Timeliness Scores per Device\n",
            "plt.figure(figsize=(15, 6))\n",
            "sns.barplot(x=\"DEVICE_ID\", y=\"AVG_TIMELINESS\", data=timeliness_df)\n",
            "plt.xticks([], [])  # Hide x-axis labels for readability\n",
            "plt.xlabel(\"Devices\")\n",
            "plt.ylabel(\"Timeliness Score (%)\")\n",
            "plt.title(\"Timeliness Score per Device (Abyei Camp)\")\n",
            "plt.grid(axis=\"y\", linestyle=\"--\", alpha=0.7)\n",
            "plt.savefig(f\"{output_dir}/timeliness_per_device.png\", dpi=300, bbox_inches=\"tight\")\n",
            "plt.show()"
         ]
      },
      {
         "cell_type": "code",
         "execution_count": null,
         "metadata": {},
         "outputs": [],
         "source": [
            "# Plot 2: Histogram of Timeliness Scores\n",
            "plt.figure(figsize=(10, 6))\n",
            "sns.histplot(timeliness_df[\"AVG_TIMELINESS\"], bins=20, kde=True, color=\"blue\")\n",
            "plt.xlabel(\"Timeliness Score (%)\")\n",
            "plt.ylabel(\"Number of Devices\")\n",
            "plt.title(\"Distribution of Device Timeliness Scores\")\n",
            "plt.grid(axis=\"y\", linestyle=\"--\", alpha=0.7)\n",
            "plt.savefig(f\"{output_dir}/timeliness_histogram.png\", dpi=300, bbox_inches=\"tight\")\n",
            "plt.show()"
         ]
      },
      {
         "cell_type": "code",
         "execution_count": null,
         "metadata": {},
         "outputs": [],
         "source": [
            "\n",
            "# Plot 3: Scatter Plot - Timeliness Score vs. Total Records\n",
            "plt.figure(figsize=(10, 6))\n",
            "sns.scatterplot(x=\"TOTAL_RECORDS\", y=\"AVG_TIMELINESS\", data=timeliness_df, alpha=0.7, color=\"purple\")\n",
            "plt.xlabel(\"Total Records per Device\")\n",
            "plt.ylabel(\"Timeliness Score (%)\")\n",
            "plt.title(\"Scatter Plot: Timeliness Score vs. Total Records\")\n",
            "plt.grid(True, linestyle=\"--\", alpha=0.7)\n",
            "plt.savefig(f\"{output_dir}/timeliness_scatter.png\", dpi=300, bbox_inches=\"tight\")\n",
            "plt.show()\n"
         ]
      },
      {
         "cell_type": "code",
         "execution_count": null,
         "metadata": {},
         "outputs": [],
         "source": [
            "# Plot 4: Top & Bottom 30 Devices by Timeliness Score\n",
            "df_sorted = timeliness_df.sort_values(\"AVG_TIMELINESS\", ascending=True)\n",
            "\n",
            "plt.figure(figsize=(15, 6))\n",
            "sns.barplot(x=\"DEVICE_ID\", y=\"AVG_TIMELINESS\", data=df_sorted.head(30), color=\"red\", label=\"Bottom 30 Devices\")\n",
            "sns.barplot(x=\"DEVICE_ID\", y=\"AVG_TIMELINESS\", data=df_sorted.tail(30), color=\"green\", label=\"Top 30 Devices\")\n",
            "plt.xticks(rotation=90)\n",
            "plt.xlabel(\"Device ID\")\n",
            "plt.ylabel(\"Timeliness Score (%)\")\n",
            "plt.title(\"Top & Bottom 50 Devices by Timeliness Score\")\n",
            "plt.legend()\n",
            "plt.grid(axis=\"y\", linestyle=\"--\", alpha=0.7)\n",
            "plt.savefig(f\"{output_dir}/timeliness_top_bottom.png\", dpi=300, bbox_inches=\"tight\")\n",
            "plt.show()\n"
         ]
      },
      {
         "cell_type": "code",
         "execution_count": null,
         "metadata": {},
         "outputs": [],
         "source": [
            "# Plot 5: Distribution of Devices by Timeliness Score Ranges\n",
            "bins = [0, 50, 70, 85, 95, 100]\n",
            "labels = [\"<50%\", \"50-69%\", \"70-84%\", \"85-94%\", \"95-100%\"]\n",
            "timeliness_df[\"TIMELINESS_BIN\"] = pd.cut(timeliness_df[\"AVG_TIMELINESS\"], bins=bins, labels=labels, right=True)\n",
            "\n",
            "plt.figure(figsize=(10, 6))\n",
            "sns.countplot(x=\"TIMELINESS_BIN\", data=timeliness_df, palette=\"Blues_r\")\n",
            "plt.xlabel(\"Timeliness Score Ranges\")\n",
            "plt.ylabel(\"Number of Devices\")\n",
            "plt.title(\"Distribution of Devices by Timeliness Score Range\")\n",
            "plt.grid(axis=\"y\", linestyle=\"--\", alpha=0.7)\n",
            "plt.savefig(f\"{output_dir}/timeliness_distribution.png\", dpi=300, bbox_inches=\"tight\")\n",
            "plt.show()"
         ]
      },
      {
         "cell_type": "markdown",
         "metadata": {
            "id": "kdaulLg0qxK4"
         },
         "source": [
            "### Completeness"
         ]
      },
      {
         "cell_type": "code",
         "execution_count": null,
         "metadata": {
            "colab": {
               "base_uri": "https://localhost:8080/",
               "height": 254
            },
            "id": "F0L4EiEyIjBo",
            "outputId": "af44489f-539d-425a-d25b-917e533851f9"
         },
         "outputs": [],
         "source": [
            "completeness_df.head()"
         ]
      },
      {
         "cell_type": "code",
         "execution_count": null,
         "metadata": {
            "colab": {
               "base_uri": "https://localhost:8080/"
            },
            "id": "Su02PO9EqxK4",
            "outputId": "03b2ae80-de1f-4dba-e19b-e565cdad29ce"
         },
         "outputs": [],
         "source": [
            "# Step 1: Calculate Total Valid Reported and Expected Days\n",
            "total_valid_reported = completeness_df[\"REPORTED_DAYS\"].sum()\n",
            "total_expected = completeness_df[\"EXPECTED_DAYS\"].sum()\n",
            "\n",
            "# Step 2: Calculate Overall Completeness\n",
            "overall_completeness = (total_valid_reported / total_expected) * 100\n",
            "\n",
            "# Display Results\n",
            "print(f\"Overall Dataset Completeness: {overall_completeness:.2f}%\")"
         ]
      },
      {
         "cell_type": "markdown",
         "metadata": {},
         "source": [
            "#### Visualization and exports"
         ]
      },
      {
         "cell_type": "code",
         "execution_count": null,
         "metadata": {
            "colab": {
               "base_uri": "https://localhost:8080/",
               "height": 675
            },
            "id": "ecw4uRbKqxK4",
            "outputId": "8223e402-5709-40d6-cfc8-644e6cad927a"
         },
         "outputs": [],
         "source": [
            "# Pie Chart to Visualize Completeness\n",
            "labels = ['Complete Data', 'Incomplete Data']\n",
            "values = [total_valid_reported, total_expected - total_valid_reported]\n",
            "colors = ['#4CAF50', '#F44336']  # Green and Red\n",
            "\n",
            "plt.figure(figsize=(8, 8))\n",
            "plt.pie(values, labels=labels, autopct='%1.1f%%', startangle=90, colors=colors, wedgeprops={'edgecolor': 'white'})\n",
            "plt.title(\"Overall Dataset Completeness\")\n",
            "plt.show()\n"
         ]
      },
      {
         "cell_type": "markdown",
         "metadata": {},
         "source": [
            "#### Visualization and exports"
         ]
      },
      {
         "cell_type": "code",
         "execution_count": null,
         "metadata": {},
         "outputs": [],
         "source": [
            "# Plot 1: Bar Chart of Completeness Scores per Device\n",
            "plt.figure(figsize=(15, 6))\n",
            "sns.barplot(x=\"DEVICE_ID\", y=\"COMPLETENESS_PERCENTAGE\", data=completeness_df)\n",
            "plt.xticks([], [])  # Hide x-axis labels for readability\n",
            "plt.xlabel(\"Devices\")\n",
            "plt.ylabel(\"Completeness Score (%)\")\n",
            "plt.title(\"Completeness Score per Device (Abyei Camp)\")\n",
            "plt.grid(axis=\"y\", linestyle=\"--\", alpha=0.7)\n",
            "plt.savefig(f\"{output_dir}/completeness_per_device.png\", dpi=300, bbox_inches=\"tight\")\n",
            "plt.show()"
         ]
      },
      {
         "cell_type": "code",
         "execution_count": null,
         "metadata": {},
         "outputs": [],
         "source": [
            "# Plot 2: Histogram of Completeness Scores\n",
            "plt.figure(figsize=(10, 6))\n",
            "sns.histplot(completeness_df[\"COMPLETENESS_PERCENTAGE\"], bins=20, kde=True, color=\"blue\")\n",
            "plt.xlabel(\"Completeness Score (%)\")\n",
            "plt.ylabel(\"Number of Devices\")\n",
            "plt.title(\"Distribution of Device Completeness Scores\")\n",
            "plt.grid(axis=\"y\", linestyle=\"--\", alpha=0.7)\n",
            "plt.savefig(f\"{output_dir}/completeness_histogram.png\", dpi=300, bbox_inches=\"tight\")\n",
            "plt.show()"
         ]
      },
      {
         "cell_type": "code",
         "execution_count": null,
         "metadata": {},
         "outputs": [],
         "source": [
            "# Plot 3: Scatter Plot - Completeness Score vs. Total Reported Days\n",
            "plt.figure(figsize=(10, 6))\n",
            "sns.scatterplot(x=\"REPORTED_DAYS\", y=\"COMPLETENESS_PERCENTAGE\", data=completeness_df, alpha=0.7, color=\"purple\")\n",
            "plt.xlabel(\"Total Reported Days per Device\")\n",
            "plt.ylabel(\"Completeness Score (%)\")\n",
            "plt.title(\"Scatter Plot: Completeness Score vs. Reported Days\")\n",
            "plt.grid(True, linestyle=\"--\", alpha=0.7)\n",
            "plt.savefig(f\"{output_dir}/completeness_scatter.png\", dpi=300, bbox_inches=\"tight\")\n",
            "plt.show()"
         ]
      },
      {
         "cell_type": "code",
         "execution_count": null,
         "metadata": {},
         "outputs": [],
         "source": [
            "completeness_df.head()"
         ]
      },
      {
         "cell_type": "code",
         "execution_count": null,
         "metadata": {},
         "outputs": [],
         "source": [
            "# Plot 4: Top & Bottom 30 Devices by Completeness Score\n",
            "completeness_df_pd = completeness_df.to_pandas()\n",
            "\n",
            "df_sorted = completeness_df_pd.sort_values(\"COMPLETENESS_PERCENTAGE\", ascending=True)\n",
            "\n",
            "plt.figure(figsize=(15, 6))\n",
            "sns.barplot(x=\"DEVICE_ID\", y=\"COMPLETENESS_PERCENTAGE\", data=df_sorted.head(30), color=\"red\", label=\"Bottom 30 Devices\")\n",
            "sns.barplot(x=\"DEVICE_ID\", y=\"COMPLETENESS_PERCENTAGE\", data=df_sorted.tail(30), color=\"green\", label=\"Top 30 Devices\")\n",
            "plt.xticks(rotation=90)\n",
            "plt.xlabel(\"Device ID\")\n",
            "plt.ylabel(\"Completeness Score (%)\")\n",
            "plt.title(\"Top & Bottom 50 Devices by Completeness Score\")\n",
            "plt.legend()\n",
            "plt.grid(axis=\"y\", linestyle=\"--\", alpha=0.7)\n",
            "plt.savefig(f\"{output_dir}/completeness_top_bottom.png\", dpi=300, bbox_inches=\"tight\")\n",
            "plt.show()"
         ]
      },
      {
         "cell_type": "code",
         "execution_count": null,
         "metadata": {},
         "outputs": [],
         "source": [
            "# Plot 5: Distribution of Devices by Completeness Score Ranges\n",
            "bins = [0, 50, 70, 85, 95, 100]\n",
            "labels = [\"<50%\", \"50-69%\", \"70-84%\", \"85-94%\", \"95-100%\"]\n",
            "completeness_df_pd[\"COMPLETENESS_BIN\"] = pd.cut(completeness_df_pd[\"COMPLETENESS_PERCENTAGE\"], bins=bins, labels=labels, right=True)\n",
            "\n",
            "plt.figure(figsize=(10, 6))\n",
            "sns.countplot(x=\"COMPLETENESS_BIN\", data=completeness_df_pd, palette=\"Blues_r\")\n",
            "plt.xlabel(\"Completeness Score Ranges\")\n",
            "plt.ylabel(\"Number of Devices\")\n",
            "plt.title(\"Distribution of Devices by Completeness Score Range\")\n",
            "plt.grid(axis=\"y\", linestyle=\"--\", alpha=0.7)\n",
            "plt.savefig(f\"{output_dir}/completeness_distribution.png\", dpi=300, bbox_inches=\"tight\")\n",
            "plt.show()"
         ]
      },
      {
         "cell_type": "markdown",
         "metadata": {
            "id": "tGEA_fCLqxK4"
         },
         "source": [
            "## Overall Data Quality Score"
         ]
      },
      {
         "cell_type": "code",
         "execution_count": null,
         "metadata": {
            "colab": {
               "base_uri": "https://localhost:8080/",
               "height": 254
            },
            "id": "sOxLjvXcqxK4",
            "outputId": "b13ab176-4217-4585-e275-e6cd024d9ab1"
         },
         "outputs": [],
         "source": [
            "# Step 1: Combine All Data Quality Metrics\n",
            "metrics_df = completeness_df.select([\n",
            "    \"DEVICE_ID\",\n",
            "    \"COMPLETENESS_PERCENTAGE\",\n",
            "    \"REPORTED_DAYS\"\n",
            "]).join(\n",
            "    accuracy_df.select([\"DEVICE_ID\", \"ACCURACY_PERCENT\"]),\n",
            "    on=\"DEVICE_ID\"\n",
            ").join(\n",
            "    timeliness_per_device.select([\"DEVICE_ID\", \"AVG_TIMELINESS\"]),\n",
            "    on=\"DEVICE_ID\"\n",
            ").join(\n",
            "    validity_per_device.select([\"DEVICE_ID\", \"VALIDITY_PERCENT\"]),\n",
            "    on=\"DEVICE_ID\"\n",
            ")\n",
            "metrics_df.head()"
         ]
      },
      {
         "cell_type": "code",
         "execution_count": null,
         "metadata": {
            "id": "NSrSMDRQqxK4"
         },
         "outputs": [],
         "source": [
            "# Step 2: Sort by Each Metric to Identify Top and Bottom Devices\n",
            "top_devices = metrics_df.sort([\n",
            "    \"ACCURACY_PERCENT\",\n",
            "    \"COMPLETENESS_PERCENTAGE\",\n",
            "    \"AVG_TIMELINESS\",\n",
            "    \"VALIDITY_PERCENT\"\n",
            "], descending=True)\n",
            "\n",
            "bottom_devices = metrics_df.sort([\n",
            "    \"COMPLETENESS_PERCENTAGE\",\n",
            "], descending=False)"
         ]
      },
      {
         "cell_type": "code",
         "execution_count": null,
         "metadata": {
            "colab": {
               "base_uri": "https://localhost:8080/",
               "height": 254
            },
            "id": "qb98BuDpqxK4",
            "outputId": "647d64b3-bc58-4755-914b-95607cfbcab4"
         },
         "outputs": [],
         "source": [
            "top_devices.head()"
         ]
      },
      {
         "cell_type": "code",
         "execution_count": null,
         "metadata": {
            "colab": {
               "base_uri": "https://localhost:8080/",
               "height": 254
            },
            "id": "vRjnoFzPqxK5",
            "outputId": "96fc0322-791b-47c7-c37d-f6764a1e412d"
         },
         "outputs": [],
         "source": [
            "bottom_devices.head()"
         ]
      },
      {
         "cell_type": "markdown",
         "metadata": {
            "id": "z2N8IFpBqxK5"
         },
         "source": [
            "### Weighting"
         ]
      },
      {
         "cell_type": "markdown",
         "metadata": {},
         "source": [
            "#### Equal Weighting"
         ]
      },
      {
         "cell_type": "code",
         "execution_count": null,
         "metadata": {
            "colab": {
               "base_uri": "https://localhost:8080/",
               "height": 254
            },
            "id": "2FJU_BQEqxK5",
            "outputId": "abc29fab-9a79-4f25-8389-d7dea10c24cc"
         },
         "outputs": [],
         "source": [
            "# Compute Initial DQS\n",
            "metrics_df = metrics_df.with_columns(\n",
            "    (\n",
            "        0.25 * pl.col(\"COMPLETENESS_PERCENTAGE\") +\n",
            "        0.25 * pl.col(\"ACCURACY_PERCENT\") +\n",
            "        0.25 * pl.col(\"AVG_TIMELINESS\") +\n",
            "        0.25 * pl.col(\"VALIDITY_PERCENT\")\n",
            "    ).alias(\"DQS_EQUAL\")\n",
            ")\n",
            "metrics_df.sort('DQS_EQUAL',descending=False).head()"
         ]
      },
      {
         "cell_type": "markdown",
         "metadata": {},
         "source": [
            "#### AHP"
         ]
      },
      {
         "cell_type": "code",
         "execution_count": null,
         "metadata": {},
         "outputs": [],
         "source": [
            "file_path = \"../data/AHP Voting for Data Quality Score (Responses) - Form responses .csv\"\n",
            "ahp_response = pd.read_csv(file_path)"
         ]
      },
      {
         "cell_type": "code",
         "execution_count": null,
         "metadata": {},
         "outputs": [],
         "source": [
            "ahp_response.head()"
         ]
      },
      {
         "cell_type": "markdown",
         "metadata": {},
         "source": [
            "The first response is not used because it's incomplete. So only the second and third are used to avoid bais."
         ]
      },
      {
         "cell_type": "markdown",
         "metadata": {},
         "source": [
            "The RI values were derived from simulations of randomly generated matrices, and they vary based on the number of criteria (\n",
            "𝑛\n",
            "n):\n",
            "\n",
            "n (Number of Criteria) - RI Value\n",
            "- 1\t0\n",
            "- 2\t0\n",
            "- 3\t0.58\n",
            "- 4\t0.90\n",
            "- 5\t1.12\n",
            "- 6\t1.24\n",
            "- 7\t1.32\n",
            "- 8\t1.41\n",
            "- 9\t1.45\n",
            "- 10\t1.49\n",
            "\n",
            "\n",
            "In our case, since we have 4 criteria (Accuracy, Validity, Completeness, Timeliness), we use RI = 0.90."
         ]
      },
      {
         "cell_type": "code",
         "execution_count": null,
         "metadata": {},
         "outputs": [],
         "source": [
            "# Filter the dataset to use only the last two complete responses\n",
            "df_filtered = ahp_response.iloc[-2:, :]\n",
            "\n",
            "criteria = [\n",
            "    \"Accuracy\",\n",
            "    \"Validity\",\n",
            "    \"Completeness\",\n",
            "    \"Timeliness\"\n",
            "]\n",
            "\n",
            "n = len(criteria)\n",
            "random_index = 0.90\n",
            "\n",
            "# Extract the pairwise comparisons again with the filtered data\n",
            "comparisons_filtered = {\n",
            "    (\"Accuracy\", \"Validity\"): df_filtered.iloc[:, 2].astype(float),\n",
            "    (\"Accuracy\", \"Completeness\"): df_filtered.iloc[:, 4].astype(float),\n",
            "    (\"Validity\", \"Completeness\"): df_filtered.iloc[:, 6].astype(float),\n",
            "    (\"Validity\", \"Timeliness\"): df_filtered.iloc[:, 8].astype(float),\n",
            "    (\"Accuracy\", \"Timeliness\"): df_filtered.iloc[:, 10].astype(float),\n",
            "    (\"Completeness\", \"Timeliness\"): df_filtered.iloc[:, 12].astype(float),\n",
            "}\n",
            "\n",
            "# Compute the mean for the filtered responses\n",
            "pairwise_means_filtered = {key: values.mean() for key, values in comparisons_filtered.items()}\n",
            "\n",
            "# Construct the pairwise comparison matrix\n",
            "matrix_filtered = np.ones((n, n))\n",
            "for (c1, c2), mean_value in pairwise_means_filtered.items():\n",
            "    i, j = criteria.index(c1), criteria.index(c2)\n",
            "    matrix_filtered[i, j] = mean_value\n",
            "    matrix_filtered[j, i] = 1 / mean_value\n",
            "\n",
            "# Compute the priority vector \n",
            "eigenvalues_filtered, eigenvectors_filtered = np.linalg.eig(matrix_filtered)\n",
            "max_eigenvalue_filtered = np.max(eigenvalues_filtered)\n",
            "priority_vector_filtered = np.real(eigenvectors_filtered[:, np.argmax(eigenvalues_filtered)])\n",
            "priority_vector_filtered /= priority_vector_filtered.sum()\n",
            "\n",
            "# Compute the consistency ratio \n",
            "consistency_index_filtered = (max_eigenvalue_filtered - n) / (n - 1)\n",
            "\n",
            "consistency_ratio_filtered = consistency_index_filtered / random_index\n",
            "\n",
            "# Prepare results for display\n",
            "ahp_results = pd.DataFrame({\n",
            "    \"Criteria\": criteria,\n",
            "    \"Priority Weight\": priority_vector_filtered\n",
            "}).sort_values(by=\"Priority Weight\", ascending=False)\n",
            "\n",
            "ahp_results.head()"
         ]
      },
      {
         "cell_type": "code",
         "execution_count": null,
         "metadata": {},
         "outputs": [],
         "source": [
            "consistency_ratio_filtered"
         ]
      },
      {
         "cell_type": "code",
         "execution_count": null,
         "metadata": {
            "id": "0P7hCCuVqxK5"
         },
         "outputs": [],
         "source": [
            "ahp_weights = {\n",
            "    \"timeliness\": 0.054102,\n",
            "    \"validity\": 0.310792,\n",
            "    \"completeness\": 0.317553,\n",
            "    \"accuracy\": 0.317553\n",
            "}\n",
            "\n",
            "metrics_df = metrics_df.with_columns(\n",
            "    (\n",
            "        ahp_weights[\"accuracy\"] * pl.col(\"ACCURACY_PERCENT\") +\n",
            "        ahp_weights[\"completeness\"] * pl.col(\"COMPLETENESS_PERCENTAGE\") +\n",
            "        ahp_weights[\"timeliness\"] * pl.col(\"AVG_TIMELINESS\") +\n",
            "        ahp_weights[\"validity\"] * pl.col(\"VALIDITY_PERCENT\")\n",
            "    ).alias(\"DQS_AHP\")\n",
            ")"
         ]
      },
      {
         "cell_type": "code",
         "execution_count": null,
         "metadata": {
            "colab": {
               "base_uri": "https://localhost:8080/",
               "height": 254
            },
            "id": "hyDt2_nkqxK5",
            "outputId": "8d489638-89ee-4add-a233-212294d11f02"
         },
         "outputs": [],
         "source": [
            "metrics_df.sort('DQS_AHP',descending=False).head()"
         ]
      },
      {
         "cell_type": "markdown",
         "metadata": {
            "id": "lbABjl1vqxK5"
         },
         "source": [
            "### Final Score"
         ]
      },
      {
         "cell_type": "code",
         "execution_count": null,
         "metadata": {
            "id": "mfnzI8p4qxK5"
         },
         "outputs": [],
         "source": [
            "# Step 1: Define Combination Weights (e.g., 50% for both)\n",
            "equal_weight = 0.5\n",
            "ahp_weight = 0.5\n",
            "\n",
            "# Step 2: Compute Final DQS for Each Device\n",
            "metrics_df = metrics_df.with_columns(\n",
            "    (\n",
            "        (pl.col(\"DQS_EQUAL\") * equal_weight) +\n",
            "        (pl.col(\"DQS_AHP\") * ahp_weight)\n",
            "    ).alias(\"DQS_FINAL_DEVICE\")\n",
            ")"
         ]
      },
      {
         "cell_type": "code",
         "execution_count": null,
         "metadata": {
            "colab": {
               "base_uri": "https://localhost:8080/",
               "height": 254
            },
            "id": "Vq-hwSMXqxK5",
            "outputId": "f6fb3698-2b3e-4756-88ee-a0797e5aea4e"
         },
         "outputs": [],
         "source": [
            "metrics_df.sort('COMPLETENESS_PERCENTAGE',descending=False).head()"
         ]
      },
      {
         "cell_type": "code",
         "execution_count": null,
         "metadata": {
            "colab": {
               "base_uri": "https://localhost:8080/"
            },
            "id": "Z3bPMTZhqxK5",
            "outputId": "735a843d-f957-4a5b-d4ce-00e72422b4ab"
         },
         "outputs": [],
         "source": [
            "# Final DQS\n",
            "metrics_df['DQS_FINAL_DEVICE'].mean()"
         ]
      },
      {
         "cell_type": "code",
         "execution_count": null,
         "metadata": {},
         "outputs": [],
         "source": []
      },
      {
         "cell_type": "markdown",
         "metadata": {},
         "source": [
            "## Devices to Enhance"
         ]
      },
      {
         "cell_type": "code",
         "execution_count": null,
         "metadata": {},
         "outputs": [],
         "source": [
            "filtered_devices = metrics_df.filter((pl.col('ACCURACY_PERCENT') < 95) | (pl.col('COMPLETENESS_PERCENTAGE') < 95))"
         ]
      },
      {
         "cell_type": "code",
         "execution_count": null,
         "metadata": {},
         "outputs": [],
         "source": [
            "filtered_devices.write_csv('../exports/devices_to_clean.csv')"
         ]
      },
      {
         "cell_type": "code",
         "execution_count": null,
         "metadata": {
            "scrolled": true
         },
         "outputs": [],
         "source": [
            "filtered_devices.head()"
         ]
      },
      {
         "cell_type": "code",
         "execution_count": null,
         "metadata": {},
         "outputs": [],
         "source": [
            "filtered_devices.shape[0]"
         ]
      },
      {
         "cell_type": "code",
         "execution_count": null,
         "metadata": {},
         "outputs": [],
         "source": []
      }
   ],
   "metadata": {
      "colab": {
         "collapsed_sections": [
            "hyDedPc8HvSa",
            "3VpS-O9vHvSb",
            "J4tcXDKnhh6q",
            "xA9no9XJPl2y",
            "m1HOmuf1HvSo",
            "rj5QHprRHvSo",
            "sj2dbOvFHvSp",
            "JnRkg4dbHvSr",
            "gPGlpPwjr3n2",
            "bB1UKw1osLp7"
         ],
         "provenance": [],
         "toc_visible": true
      },
      "kernelspec": {
         "display_name": "Python 3 (ipykernel)",
         "language": "python",
         "name": "python3"
      },
      "language_info": {
         "codemirror_mode": {
            "name": "ipython",
            "version": 3
         },
         "file_extension": ".py",
         "mimetype": "text/x-python",
         "name": "python",
         "nbconvert_exporter": "python",
         "pygments_lexer": "ipython3",
         "version": "3.10.15"
      }
   },
   "nbformat": 4,
   "nbformat_minor": 4
}
