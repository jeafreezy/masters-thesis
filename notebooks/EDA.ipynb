{
   "cells": [
      {
         "cell_type": "markdown",
         "metadata": {},
         "source": [
            "# Exploratory Data Analysis (EDA)"
         ]
      },
      {
         "cell_type": "markdown",
         "metadata": {},
         "source": [
            "### Package Imports"
         ]
      },
      {
         "cell_type": "code",
         "execution_count": null,
         "metadata": {},
         "outputs": [],
         "source": [
            "import polars as pl\n",
            "import plotly.express as px\n",
            "import matplotlib.pyplot as plt\n",
            "\n",
            "\n",
            "\n",
            "pl.Config.set_tbl_rows(-1)\n",
            "%matplotlib inline"
         ]
      },
      {
         "cell_type": "markdown",
         "metadata": {},
         "source": [
            "## Data Preparation"
         ]
      },
      {
         "cell_type": "code",
         "execution_count": null,
         "metadata": {},
         "outputs": [],
         "source": [
            "# read the whole csv file\n",
            "df_pl = pl.scan_csv(\n",
            "    \"../data/IoT Data.csv\",\n",
            "    separator=\"|\",\n",
            ")"
         ]
      },
      {
         "cell_type": "code",
         "execution_count": null,
         "metadata": {},
         "outputs": [],
         "source": [
            "df = df_pl.collect()"
         ]
      },
      {
         "cell_type": "code",
         "execution_count": null,
         "metadata": {},
         "outputs": [],
         "source": [
            "# compute the length\n",
            "length_computed = df.shape[0]\n",
            "\n",
            "# remove the first row as it is irrelevant\n",
            "df = df.slice(1, length_computed - 1)\n",
            "df.head()"
         ]
      },
      {
         "cell_type": "markdown",
         "metadata": {},
         "source": [
            "#### What is the total available data ?"
         ]
      },
      {
         "cell_type": "code",
         "execution_count": null,
         "metadata": {},
         "outputs": [],
         "source": [
            "df.shape[0]"
         ]
      },
      {
         "cell_type": "markdown",
         "metadata": {},
         "source": [
            "#### What is the total number of devices ?"
         ]
      },
      {
         "cell_type": "code",
         "execution_count": null,
         "metadata": {},
         "outputs": [],
         "source": [
            "df['DEVICE_ID'].n_unique()"
         ]
      },
      {
         "cell_type": "markdown",
         "metadata": {},
         "source": [
            "#### What are some descriptive statistics about the data ?"
         ]
      },
      {
         "cell_type": "code",
         "execution_count": null,
         "metadata": {},
         "outputs": [],
         "source": [
            "df.describe()"
         ]
      },
      {
         "cell_type": "markdown",
         "metadata": {},
         "source": [
            "#### Filter out Water Consumption Data"
         ]
      },
      {
         "cell_type": "code",
         "execution_count": null,
         "metadata": {},
         "outputs": [],
         "source": [
            "df = df.filter((pl.col('OGI_MEASURE_TYPE') == 'Con') & (pl.col('TAG_DISPLAY_UNIT') == \"L\") & (pl.col('DEVICE_TYPE_NAME') == \"WATER METER\") )\n",
            "df.head()"
         ]
      },
      {
         "cell_type": "markdown",
         "metadata": {},
         "source": [
            "#### What are the data types ?"
         ]
      },
      {
         "cell_type": "code",
         "execution_count": null,
         "metadata": {},
         "outputs": [],
         "source": [
            "df.schema"
         ]
      },
      {
         "cell_type": "markdown",
         "metadata": {},
         "source": [
            "Based on the schema, we need to convert some columns to the right data type."
         ]
      },
      {
         "cell_type": "markdown",
         "metadata": {},
         "source": [
            "#### Convert longitude and latitude to floats\n",
            "\n",
            "Since the longitude are currently stored as strings in the schema, convert them to float to prepare them for future analysis."
         ]
      },
      {
         "cell_type": "code",
         "execution_count": null,
         "metadata": {},
         "outputs": [],
         "source": [
            "spatial_columns = ['OGI_LAT','OGI_LONG']\n",
            "for column in spatial_columns:\n",
            "    df = df.with_columns(pl.col(column).str.replace(\",\",\".\").cast(pl.Float32))"
         ]
      },
      {
         "cell_type": "markdown",
         "metadata": {},
         "source": [
            "#### Convert strings datatype to the right datatype"
         ]
      },
      {
         "cell_type": "code",
         "execution_count": null,
         "metadata": {},
         "outputs": [],
         "source": [
            "df = df.with_columns([\n",
            "    pl.col('TAG_VALUE_RAW').str.replace(',', '.').cast(pl.Float64),\n",
            "    pl.col('DEVICE_ID').cast(pl.Int32),\n",
            "    pl.col(\"TAG_VALUE_DATE\").str.strptime(pl.Datetime, \"%Y-%m-%d %H:%M:%S.%f\", strict=False)\n",
            "])"
         ]
      },
      {
         "cell_type": "code",
         "execution_count": null,
         "metadata": {},
         "outputs": [],
         "source": [
            "# cross check the schema again\n",
            "\n",
            "df.schema"
         ]
      },
      {
         "cell_type": "markdown",
         "metadata": {},
         "source": [
            "## EDA"
         ]
      },
      {
         "cell_type": "markdown",
         "metadata": {},
         "source": [
            "#### What are the different levels available in the data ?"
         ]
      },
      {
         "cell_type": "code",
         "execution_count": null,
         "metadata": {},
         "outputs": [],
         "source": [
            "value_counts = df['OGI_LEVEL'].value_counts()\n",
            "value_counts"
         ]
      },
      {
         "cell_type": "code",
         "execution_count": null,
         "metadata": {},
         "outputs": [],
         "source": [
            "value_counts.to_pandas().plot(kind='bar', x='OGI_LEVEL', y='count')"
         ]
      },
      {
         "cell_type": "markdown",
         "metadata": {},
         "source": [
            "#### How many devices are in each level ?"
         ]
      },
      {
         "cell_type": "code",
         "execution_count": null,
         "metadata": {},
         "outputs": [],
         "source": [
            "level_1_devices = df.filter(pl.col('OGI_LEVEL') == \"1\")\n",
            "level_2_devices = df.filter(pl.col('OGI_LEVEL') == \"2\")\n",
            "level_3_devices = df.filter(pl.col('OGI_LEVEL') == \"3\")\n",
            "\n",
            "level_1_devices['DEVICE_ID'].n_unique() , level_2_devices['DEVICE_ID'].n_unique() , level_3_devices['DEVICE_ID'].n_unique()"
         ]
      },
      {
         "cell_type": "markdown",
         "metadata": {},
         "source": [
            "#### What are the names of the different camps?"
         ]
      },
      {
         "cell_type": "code",
         "execution_count": null,
         "metadata": {
            "scrolled": true
         },
         "outputs": [],
         "source": [
            "value_counts= df['DEVICE_LOCATION_NAME'].value_counts()\n",
            "value_counts"
         ]
      },
      {
         "cell_type": "markdown",
         "metadata": {},
         "source": [
            "#### How many devices are available in total?"
         ]
      },
      {
         "cell_type": "code",
         "execution_count": null,
         "metadata": {},
         "outputs": [],
         "source": [
            "df['DEVICE_ID'].n_unique()"
         ]
      },
      {
         "cell_type": "markdown",
         "metadata": {},
         "source": [
            "#### What is the device distribution across the camps?"
         ]
      },
      {
         "cell_type": "code",
         "execution_count": null,
         "metadata": {},
         "outputs": [],
         "source": [
            "camp_device_counts = df.group_by(\"DEVICE_LOCATION_NAME\").agg(pl.col(\"DEVICE_ID\").n_unique().alias(\"device_count\"))\n",
            "\n",
            "camp_device_counts"
         ]
      },
      {
         "cell_type": "markdown",
         "metadata": {},
         "source": [
            "#### Which camp has the highest data to work with ?"
         ]
      },
      {
         "cell_type": "code",
         "execution_count": null,
         "metadata": {},
         "outputs": [],
         "source": [
            "camp_data_counts_pd = camp_data_counts.to_pandas()\n",
            "\n",
            "fig = px.bar(camp_data_counts_pd, x=\"DEVICE_LOCATION_NAME\", y=\"data_count\",\n",
            "             labels={\"DEVICE_LOCATION_NAME\": \"Camp Name\", \"data_count\": \"Number of Data Points\"},\n",
            "             title=\"Distribution of Data Points Across Camps\")\n",
            "fig.show()\n",
            "\n",
            "highest_data_camp = camp_data_counts_pd.loc[camp_data_counts_pd['data_count'].idxmax()]\n",
            "print(f\"The camp with the highest data count is: {highest_data_camp['DEVICE_LOCATION_NAME']} with {highest_data_camp['data_count']} data points.\")"
         ]
      },
      {
         "cell_type": "code",
         "execution_count": null,
         "metadata": {},
         "outputs": [],
         "source": [
            "camp_data_counts"
         ]
      },
      {
         "cell_type": "code",
         "execution_count": null,
         "metadata": {},
         "outputs": [],
         "source": [
            "df.shape[0]"
         ]
      },
      {
         "cell_type": "markdown",
         "metadata": {},
         "source": [
            "Abyei has the highest data, so will be using Abyei as the study focus."
         ]
      },
      {
         "cell_type": "markdown",
         "metadata": {},
         "source": [
            "#### Filter out Abyei"
         ]
      },
      {
         "cell_type": "code",
         "execution_count": null,
         "metadata": {},
         "outputs": [],
         "source": [
            "abyei_df = df.filter((pl.col(\"DEVICE_LOCATION_NAME\") == \"Abyei\"))"
         ]
      },
      {
         "cell_type": "markdown",
         "metadata": {},
         "source": [
            "### Resample to daily consumption\n",
            "Also select relevant columns"
         ]
      },
      {
         "cell_type": "code",
         "execution_count": null,
         "metadata": {},
         "outputs": [],
         "source": [
            "cummulative_daily_consumption = (\n",
            "    abyei_df\n",
            "    .with_columns(\n",
            "        pl.col(\"TAG_VALUE_DATE\").dt.truncate(\"1d\").cast(pl.Date).alias(\"DATE\")\n",
            "    )\n",
            "    .sort([\"DEVICE_ID\", \"DATE\"])  # Sort by truncated date\n",
            "    .group_by([\"DEVICE_ID\", \"DATE\"])  # Group by DEVICE_ID and DATE\n",
            "    .agg([\n",
            "        pl.col(\"TAG_VALUE_RAW\").max().alias(\"CUMMULATIVE_CONSUMPTION\"),\n",
            "        pl.col(\"OGI_LONG\").first(),\n",
            "        pl.col(\"OGI_LAT\").first(),\n",
            "    ])\n",
            "    .sort([\"DEVICE_ID\", \"DATE\"])\n",
            ")\n"
         ]
      },
      {
         "cell_type": "code",
         "execution_count": null,
         "metadata": {},
         "outputs": [],
         "source": [
            "cummulative_daily_consumption.head()"
         ]
      },
      {
         "cell_type": "code",
         "execution_count": null,
         "metadata": {},
         "outputs": [],
         "source": [
            "cummulative_daily_consumption.shape[0]"
         ]
      },
      {
         "cell_type": "markdown",
         "metadata": {},
         "source": [
            "### Visualization"
         ]
      },
      {
         "cell_type": "code",
         "execution_count": null,
         "metadata": {},
         "outputs": [],
         "source": [
            "# --- TIME SERIES PLOT (Before & After Resampling for Most Reported Device) ---\n",
            "# Select the most reported device (device with the highest number of records)\n",
            "df_pandas = cummulative_daily_consumption.to_pandas()\n",
            "\n",
            "device_id = df_pandas[\"DEVICE_ID\"].value_counts().idxmax() \n",
            "\n",
            "print(device_id)"
         ]
      },
      {
         "cell_type": "code",
         "execution_count": null,
         "metadata": {},
         "outputs": [],
         "source": [
            "before_resampling_df = df.filter(pl.col('DEVICE_ID') == device_id).to_pandas()\n",
            "df_device = df_pandas[df_pandas[\"DEVICE_ID\"] == device_id]\n",
            "\n",
            "plt.figure(figsize=(12, 5))\n",
            "\n",
            "# Plot Before Resampling (raw data)\n",
            "plt.plot(before_resampling_df[\"TAG_VALUE_DATE\"], before_resampling_df[\"TAG_VALUE_RAW\"], \n",
            "         marker=\"o\", linestyle=\"-\", color=\"red\", alpha=0.5, markersize=4, \n",
            "         label=\"Raw Data (Before Resampling)\")\n",
            "\n",
            "# Plot After Resampling (daily cumulative max)\n",
            "plt.plot(df_device[\"DATE\"], df_device[\"CUMMULATIVE_CONSUMPTION\"], \n",
            "         marker=\"s\", linestyle=\"--\", color=\"green\", linewidth=2, markersize=5, \n",
            "         label=\"Daily Max (After Resampling)\")\n",
            "\n",
            "# Formatting\n",
            "plt.xlabel(\"Time\")\n",
            "plt.ylabel(\"Cumulative Water Consumption (L)\")\n",
            "plt.title(f\"Comparison of Cumulative Water Consumption Before and After Resampling (Device {device_id})\")\n",
            "plt.legend()\n",
            "plt.grid(True)\n",
            "# Save the figure as a PNG file\n",
            "plt.savefig(\"../visualizations/plots/resampling_comparison.png\", dpi=300, bbox_inches=\"tight\")\n",
            "plt.show()\n"
         ]
      },
      {
         "cell_type": "markdown",
         "metadata": {},
         "source": [
            "## Time Series Visualizations"
         ]
      },
      {
         "cell_type": "markdown",
         "metadata": {},
         "source": [
            "#### Time series chart for level 1 devices"
         ]
      },
      {
         "cell_type": "code",
         "execution_count": null,
         "metadata": {
            "scrolled": true
         },
         "outputs": [],
         "source": [
            "datetime_column = 'DATE'\n",
            "value_column = 'CUMMULATIVE_CONSUMPTION'\n",
            "\n",
            "# List of unique device tags\n",
            "device_tags = level_1_devices['DEVICE_ID'].unique().to_list()\n",
            "\n",
            "for device_id in device_tags:\n",
            "    # Filter data for the specific device tag\n",
            "    device_data = cummulative_daily_consumption.filter(\n",
            "        (pl.col(\"DEVICE_ID\") == device_id)\n",
            "    )\n",
            "\n",
            "    # Convert to pandas for Plotly\n",
            "    device_data_pd = device_data.to_pandas()\n",
            "\n",
            "    if device_data_pd.shape[0] > 0:  # Check if there's data for the device\n",
            "        # Create a Plotly figure with a slider for the whole year\n",
            "        fig = px.line(device_data_pd, x=datetime_column, y=value_column, \n",
            "                      labels={datetime_column: 'Timestamp', value_column: 'Water Consumption'},\n",
            "                      title=f'Water Consumption for Device {device_id}',\n",
            "                     )\n",
            "\n",
            "        # Update layout to add a range slider\n",
            "        fig.update_layout(\n",
            "            xaxis=dict(\n",
            "                rangeslider=dict(visible=True),  # Add a range slider\n",
            "                type=\"date\"\n",
            "            ),\n",
            "            yaxis_title='Measurement fo ',\n",
            "            xaxis_title='Timestamp'\n",
            "        )\n",
            "\n",
            "        # Show the interactive plot\n",
            "        fig.show()"
         ]
      },
      {
         "cell_type": "markdown",
         "metadata": {},
         "source": [
            "#### Time series chart for level 2 devices"
         ]
      },
      {
         "cell_type": "code",
         "execution_count": null,
         "metadata": {
            "scrolled": true
         },
         "outputs": [],
         "source": [
            "bad_devices = [1307,2049,2048,4759]\n",
            "\n",
            "for d in bad_devices:\n",
            "\n",
            "    device_data_pd = cummulative_daily_consumption.filter(pl.col('DEVICE_ID')==d)\n",
            "    fig = px.line(device_data_pd, x=datetime_column, y=value_column, \n",
            "                      labels={datetime_column: 'Timestamp', value_column: 'Water Consumption'},\n",
            "                      title=f'Water Consumption for Device {d}',\n",
            "                     )\n",
            "\n",
            "    # Update layout to add a range slider\n",
            "    fig.update_layout(\n",
            "        xaxis=dict(\n",
            "            rangeslider=dict(visible=True),  # Add a range slider\n",
            "            type=\"date\"\n",
            "        ),\n",
            "        yaxis_title='Measurement fo ',\n",
            "        xaxis_title='Timestamp'\n",
            "    )\n",
            "    \n",
            "    # Show the interactive plot\n",
            "    fig.show()"
         ]
      },
      {
         "cell_type": "code",
         "execution_count": null,
         "metadata": {},
         "outputs": [],
         "source": [
            "# the last one is less than 60 records making it not useful."
         ]
      },
      {
         "cell_type": "code",
         "execution_count": null,
         "metadata": {},
         "outputs": [],
         "source": [
            "cummulative_daily_consumption = cummulative_daily_consumption.filter(pl.col('DEVICE_ID')!=1307)\n",
            "cummulative_daily_consumption = cummulative_daily_consumption.filter(pl.col('DEVICE_ID')!=2049)\n",
            "cummulative_daily_consumption = cummulative_daily_consumption.filter(pl.col('DEVICE_ID')!=2048)\n",
            "cummulative_daily_consumption = cummulative_daily_consumption.filter(pl.col('DEVICE_ID')!=4759)"
         ]
      },
      {
         "cell_type": "markdown",
         "metadata": {},
         "source": [
            "### Export The Water Consumption Data for Abyei Assessment"
         ]
      },
      {
         "cell_type": "code",
         "execution_count": null,
         "metadata": {},
         "outputs": [],
         "source": [
            "df.write_csv('../exports/all_water_consumption.csv')"
         ]
      },
      {
         "cell_type": "code",
         "execution_count": null,
         "metadata": {},
         "outputs": [],
         "source": [
            "cummulative_daily_consumption.write_csv('../exports/cummulative_daily_consumption.csv')"
         ]
      },
      {
         "cell_type": "code",
         "execution_count": null,
         "metadata": {},
         "outputs": [],
         "source": []
      }
   ],
   "metadata": {
      "kernelspec": {
         "display_name": "Python 3 (ipykernel)",
         "language": "python",
         "name": "python3"
      },
      "language_info": {
         "codemirror_mode": {
            "name": "ipython",
            "version": 3
         },
         "file_extension": ".py",
         "mimetype": "text/x-python",
         "name": "python",
         "nbconvert_exporter": "python",
         "pygments_lexer": "ipython3",
         "version": "3.10.15"
      }
   },
   "nbformat": 4,
   "nbformat_minor": 4
}
